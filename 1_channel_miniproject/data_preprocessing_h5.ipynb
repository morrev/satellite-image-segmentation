{
 "cells": [
  {
   "cell_type": "markdown",
   "metadata": {
    "id": "foYoVUhtip45"
   },
   "source": [
    "## Loading the packages\n",
    "\n",
    "You'll need CV2 `pip install opencv-python` and Pillow `pip install Pillow`"
   ]
  },
  {
   "cell_type": "code",
   "execution_count": 1,
   "metadata": {
    "colab": {
     "base_uri": "https://localhost:8080/"
    },
    "executionInfo": {
     "elapsed": 9592,
     "status": "ok",
     "timestamp": 1650750818863,
     "user": {
      "displayName": "Lucy He",
      "userId": "13654166330399408542"
     },
     "user_tz": 240
    },
    "id": "xm2VlQ1Gaf_G",
    "outputId": "fce5d85c-8e79-48ae-bbe1-d8fa9608cc01"
   },
   "outputs": [
    {
     "name": "stdout",
     "output_type": "stream",
     "text": [
      "Requirement already satisfied: opencv-python in /usr/local/lib/python3.7/dist-packages (4.1.2.30)\n",
      "Requirement already satisfied: numpy>=1.14.5 in /usr/local/lib/python3.7/dist-packages (from opencv-python) (1.21.6)\n",
      "Requirement already satisfied: Pillow in /usr/local/lib/python3.7/dist-packages (7.1.2)\n"
     ]
    }
   ],
   "source": [
    "!pip install opencv-python\n",
    "!pip install Pillow"
   ]
  },
  {
   "cell_type": "code",
   "execution_count": 2,
   "metadata": {
    "ExecuteTime": {
     "end_time": "2021-03-19T02:38:45.570673Z",
     "start_time": "2021-03-19T02:38:45.454717Z"
    },
    "executionInfo": {
     "elapsed": 766,
     "status": "ok",
     "timestamp": 1650750893116,
     "user": {
      "displayName": "Lucy He",
      "userId": "13654166330399408542"
     },
     "user_tz": 240
    },
    "id": "1dEl6Nz6ip49"
   },
   "outputs": [],
   "source": [
    "import cv2\n",
    "from PIL import Image\n",
    "import numpy as np\n",
    "import h5py\n",
    "import matplotlib.pyplot as plt"
   ]
  },
  {
   "cell_type": "markdown",
   "metadata": {
    "id": "uIDQVPdxip4-"
   },
   "source": [
    "## Resize the image to 256x256"
   ]
  },
  {
   "cell_type": "markdown",
   "metadata": {
    "id": "DS9UFhudip4_"
   },
   "source": [
    "When you have your new images, you'd like to first resize it to 256x256\n",
    "\n",
    "**Note: In case your input image is 3-channel, make sure you turn it to black and white. Check whether your resized images are black and white**"
   ]
  },
  {
   "cell_type": "code",
   "execution_count": null,
   "metadata": {
    "ExecuteTime": {
     "end_time": "2021-03-19T04:54:10.707725Z",
     "start_time": "2021-03-19T04:54:07.233555Z"
    },
    "id": "5I_M82QGip4_"
   },
   "outputs": [],
   "source": [
    "# input_path = YOUR_INPUT_IMAGE_PATH\n",
    "# output_path = YOUR_OUTPUT_IMAGE_PATH\n",
    "dim = (256, 256) #(w,h)\n",
    "image = cv2.imread(input_path, 0)\n",
    "resized = cv2.resize(image, dim, interpolation=cv2.INTER_AREA)\n",
    "cv2.imwrite(output_path, resized)"
   ]
  },
  {
   "cell_type": "markdown",
   "metadata": {
    "id": "tECj4enTip5A"
   },
   "source": [
    "## Making `.h5` files"
   ]
  },
  {
   "cell_type": "code",
   "execution_count": null,
   "metadata": {
    "id": "XpWUqO7fip5A"
   },
   "outputs": [],
   "source": [
    "images = []\n",
    "masks = []\n",
    "## Load certain number of images from the total of 2192 images as your training\n",
    "for i in range(1, 1500):\n",
    "    img = Image.open(\"./imgs_train/\" + str(i) + \".jpg\")\n",
    "    arr = np.array(img)\n",
    "    images.append(arr)\n",
    "    img = Image.open(\"./masks_road_train/\" + str(i) + \".jpg\")\n",
    "    arr = np.array(img)\n",
    "    arr = np.expand_dims(arr, -1)\n",
    "    masks.append(arr)\n",
    "    \n",
    "images = np.array(images)\n",
    "masks = np.array(masks)\n",
    "masks.shape\n",
    "\n",
    "with h5py.File(\"Dataset_road_train.h5\", 'w') as hdf:\n",
    "    hdf.create_dataset('images', data=images, compression='gzip', compression_opts=9)\n",
    "    hdf.create_dataset('masks', data=masks, compression='gzip', compression_opts=9)"
   ]
  }
 ],
 "metadata": {
  "colab": {
   "name": "Data_processing_h5.ipynb",
   "provenance": []
  },
  "kernelspec": {
   "display_name": "Python 3",
   "language": "python",
   "name": "python3"
  },
  "language_info": {
   "codemirror_mode": {
    "name": "ipython",
    "version": 3
   },
   "file_extension": ".py",
   "mimetype": "text/x-python",
   "name": "python",
   "nbconvert_exporter": "python",
   "pygments_lexer": "ipython3",
   "version": "3.8.3"
  },
  "toc": {
   "base_numbering": 1,
   "nav_menu": {},
   "number_sections": true,
   "sideBar": true,
   "skip_h1_title": false,
   "title_cell": "Table of Contents",
   "title_sidebar": "Contents",
   "toc_cell": false,
   "toc_position": {},
   "toc_section_display": true,
   "toc_window_display": false
  }
 },
 "nbformat": 4,
 "nbformat_minor": 1
}
